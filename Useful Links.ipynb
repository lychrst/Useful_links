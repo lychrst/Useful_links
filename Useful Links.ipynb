{
 "cells": [
  {
   "cell_type": "markdown",
   "id": "ab859faa",
   "metadata": {},
   "source": [
    "## Learning \n",
    "\n",
    "https://juanitorduz.github.io/\n",
    "\n",
    "https://aws.amazon.com/training/learn-about/data-analytics/?th=tile&tile=learnabout\n",
    "\n",
    "https://medium.com/dssimplified/get-a-masters-in-data-science-for-free-4261b1055a93\n",
    "\n",
    "https://docs.aws.amazon.com/redshift/index.html\n",
    "\n",
    "https://github.com/flatiron-school/DA-AMZN-220228-lecture-material\n",
    "\n",
    "www.datacamp.com\n",
    "\n",
    "https://www.kaggle.com/learn\n",
    "\n",
    "https://aws.amazon.com/redshift/getting-started/\n",
    "\n",
    "https://levelup.gitconnected.com/17-killer-github-repos-you-need-to-save-right-now-3d2a8d694837\n",
    "\n",
    "https://explore.skillbuilder.aws/learn/signin\n",
    "\n",
    "https://medium.com/codex/3-most-effective-yet-underutilized-functions-in-python-d865ffaca0bb\n",
    "\n",
    "https://medium.com/disruptive-innovation-journal/5-data-science-projects-to-skyrocket-your-portfolio-31dbe5e69b1b\n",
    "\n",
    "https://medium.com/geekculture/struggling-to-land-a-data-science-job-try-these-virtual-internships-for-free-691933328dfe\n",
    "\n",
    "https://www.coursera.org/\n",
    "\n",
    "https://medium.com/geekculture/450-practice-questions-that-will-make-you-a-pandas-numpy-and-sql-pro-1cd6f72ee330\n",
    "\n",
    "https://microsoft.github.io/Data-Science-For-Beginners/#/\n",
    "\n",
    "https://www.coursera.org/promo/googlecloud-training-promotion\n",
    "\n",
    "https://www.nwfsc.edu/workforce/\n",
    "\n",
    "https://www.evolution.com/careers/engineering-scala-bootcamp/\n",
    "\n",
    "https://trailheadacademy.salesforce.com/classes/tvb101-trailhead-virtual-bootcamp-for-salesforce-associates\n",
    "\n",
    "https://renovacloud.com/devops-bootcamp-is-now-open/?lang=en\n",
    "\n",
    "https://partnerships.edx.org/cognizant-accelerator\n",
    "\n",
    "https://www.coursera.org/\n",
    "\n",
    "https://data.world/home/\n",
    "\n",
    "https://learn.microsoft.com/en-us/training/powerplatform/power-bi?WT.mc_id=sitertzn_learntab_guidedlearning-card-powerbi\n",
    "\n"
   ]
  },
  {
   "cell_type": "markdown",
   "id": "aad64f35",
   "metadata": {},
   "source": [
    "## Cheat Sheets\n",
    "\n",
    "Pandas - https://www.datacamp.com/cheat-sheet/pandas-cheat-sheet-for-data-science-in-python?utm_source=customerio&utm_medium=email&utm_campaign=221215_1-cheatsheets-promo_2-b2c_3-all_4-na_5-na_6-franchise_7-le_8-emal-ci_9-na_10-dec22_11-email&utm_content=blast\n",
    "\n",
    "\n",
    "Numpy - https://www.datacamp.com/cheat-sheet/numpy-cheat-sheet-data-analysis-in-python?utm_source=customerio&utm_medium=email&utm_campaign=221215_1-cheatsheets-promo_2-b2c_3-all_4-na_5-na_6-franchise_7-le_8-emal-ci_9-na_10-dec22_11-email&utm_content=blast\n",
    "\n",
    "Machine Learning - https://www.datacamp.com/cheat-sheet/machine-learning-cheat-sheet?utm_source=customerio&utm_medium=email&utm_campaign=221215_1-cheatsheets-promo_2-b2c_3-all_4-na_5-na_6-franchise_7-le_8-emal-ci_9-na_10-dec22_11-email&utm_content=blast\n",
    "\n",
    "Power Bi - https://www.datacamp.com/cheat-sheet/power-bi-cheat-sheet?utm_source=customerio&utm_medium=email&utm_campaign=221215_1-cheatsheets-promo_2-b2c_3-all_4-na_5-na_6-franchise_7-le_8-emal-ci_9-na_10-dec22_11-email&utm_content=blast\n",
    "\n",
    "SQL - https://www.datacamp.com/cheat-sheet/sql-basics-cheat-sheet?utm_source=customerio&utm_medium=email&utm_campaign=221215_1-cheatsheets-promo_2-b2c_3-all_4-na_5-na_6-franchise_7-le_8-emal-ci_9-na_10-dec22_11-email&utm_content=blast\n",
    "\n"
   ]
  },
  {
   "cell_type": "markdown",
   "id": "674956b7",
   "metadata": {},
   "source": [
    "## Facebook Prophet\n",
    "\n",
    "The master - https://juanitorduz.github.io/fb_prophet/\n",
    "\n",
    "Quickstart - https://facebook.github.io/prophet/docs/quick_start.html#python-api\n",
    "\n",
    "Moto DEI -  https://medium.com/swlh/facebook-prophet-426421f7e331\n",
    "\n",
    "https://www.datacamp.com/tutorial/tutorial-time-series-forecasting\n",
    "\n"
   ]
  },
  {
   "cell_type": "markdown",
   "id": "599d512e",
   "metadata": {},
   "source": [
    "## Statistics\n",
    "\n",
    "Penn State Stats - https://online.stat.psu.edu/statprogram/\n",
    "\n",
    "Think Bayes - https://www.greenteapress.com/thinkbayes/html/index.html\n",
    "\n",
    "If going into Machine Learning (book) - Hands on Machine Learning with Scitkit-learn and Tensorflow\n",
    "\n",
    "https://app.datacamp.com/learn/courses/introduction-to-statistics-in-python\n",
    "\n",
    "https://app.datacamp.com/learn/courses/sampling-in-python\n",
    "\n",
    "https://app.datacamp.com/learn/courses/hypothesis-testing-in-python\n"
   ]
  },
  {
   "cell_type": "markdown",
   "id": "b5ff6ae9",
   "metadata": {},
   "source": [
    "## Git Hub\n",
    "\n",
    "git book - https://git-scm.com/book/en/v2\n",
    "\n",
    "How to remove files - https://devconnected.com/how-to-remove-files-from-git-commit/\n",
    "\n",
    "git commit - https://www.freecodecamp.org/news/git-commit-command-explained/\n",
    "\n",
    "git ignore - https://github.com/lychrst/gitignore\n",
    "\n",
    "VsCode Readme Editor - https://github.com/SumitNalavade/VS-Code-ReadMe-Editor\n",
    "\n",
    "Matt Carr - https://github.com/mattcarr17/solar_energy_prediction\n",
    "\n",
    "Matt Carr - https://github.com/mattcarr17/practice-repo\n",
    "\n",
    "How to get changes back - https://git.wtf/how-to-get-your-changes-back-after-an-accidental-hard-reset-in-git\n",
    "\n",
    "move or rename - https://www.geeksforgeeks.org/git-move-files/\n",
    "\n",
    "managing envrionments - https://docs.conda.io/projects/conda/en/latest/user-guide/tasks/manage-environments.html\n",
    "\n",
    "https://ohmygit.org/"
   ]
  },
  {
   "cell_type": "markdown",
   "id": "8f9e1c29",
   "metadata": {},
   "source": [
    "## SQL \n",
    "\n",
    "https://data.world/home/"
   ]
  },
  {
   "cell_type": "markdown",
   "id": "75342acc",
   "metadata": {},
   "source": [
    "## My sites\n",
    "https://medium.com/me/settings\n",
    "\n",
    "https://www.linkedin.com/in/chris-lyons-epistemology/\n",
    "\n",
    "https://vimeo.com/manage/videos/756490938\n",
    "\n",
    "https://www.loom.com/share/39c23ce1e01f4ce9996d7823aa908ce3\n",
    "\n",
    "https://docs.google.com/document/d/1QLAQRQb6YiW9Z1AD27qMMDxI9y-QRrWflbNRjxPD3JU/edit\n",
    "\n",
    "https://public.tableau.com/app/profile/chris.lyons/viz/ColoradoRiverBasinReservoirs/ColoradoRiverBasinReservoirs\n",
    "\n",
    "https://huntr.co/track/boards/634928d75d0f3300281c45cd/board\n",
    "\n",
    "https://twitter.com/ReservoirChris\n",
    "\n",
    "https://github.com/lychrst\n",
    "\n",
    "https://www.canva.com/design/DAFNuzGOkRo/CNUIOP4efltomF6vMP_kkw/edit\n",
    "\n",
    "https://www.pagecloud.com/pagecloud-start\n"
   ]
  },
  {
   "cell_type": "markdown",
   "id": "93d4afb5",
   "metadata": {},
   "source": [
    "## Python\n",
    "\n",
    "https://towardsdatascience.com/introducing-icecream-never-use-print-to-debug-your-python-code-again-d8f2e5719f8a\n",
    "\n",
    "https://medium.com/@fareedkhandev/make-your-python-code-more-elegant-readable-or-modern-with-one-command-eb910cefded3\n",
    "\n",
    "https://python.plainenglish.io/22-things-i-never-knew-about-python-until-recently-compilation-cb8e50e400ae\n"
   ]
  },
  {
   "cell_type": "markdown",
   "id": "830c1ea6",
   "metadata": {},
   "source": [
    "##  Pandas\n",
    "\n",
    "Replacing characters in a string -  https://datatofish.com/replace-character-pandas-dataframe/\n",
    "\n",
    "Merging - https://pandas.pydata.org/pandas-docs/stable/user_guide/merging.html\n",
    "\n",
    "https://towardsdatascience.com/powerful-one-liners-in-pandas-every-data-scientist-should-know-737e721b81b6"
   ]
  },
  {
   "cell_type": "markdown",
   "id": "fcfa9031",
   "metadata": {},
   "source": [
    "## Web Scrapping\n",
    "\n",
    "Error Status Codes  - https://developer.mozilla.org/en-US/docs/Web/HTTP/Status\n",
    "\n",
    "Selenium -  https://www.selenium.dev/documentation/\n",
    "\n"
   ]
  },
  {
   "cell_type": "markdown",
   "id": "1b9779fa",
   "metadata": {},
   "source": [
    "## Plotting\n",
    "\n",
    "Rotating axis label - https://stackoverflow.com/questions/32244019/how-to-rotate-x-axis-tick-labels-in-a-pandas-plot\n",
    "\n"
   ]
  },
  {
   "cell_type": "markdown",
   "id": "97a62d31",
   "metadata": {},
   "source": [
    "## Tableau \n",
    "\n",
    "https://public.tableau.com/app/discover\n",
    "\n",
    "Tableau animation - https://public.tableau.com/app/profile/marc.reid/viz/TableauAnimation-CoreConcepts/0_Cover\n",
    "\n",
    "https://www.datacamp.com/search?q=tableau\n",
    "\n",
    "https://www.dataquest.io/path/data-visualization-in-tableau/'\n",
    "\n",
    "https://www.tableau.com/learn\n",
    "\n"
   ]
  },
  {
   "cell_type": "markdown",
   "id": "d8fdc348",
   "metadata": {},
   "source": [
    "## Machine Learning \n",
    "\n",
    "https://towardsdatascience.com/6-papers-every-modern-data-scientist-must-read-1d0e708becd\n"
   ]
  },
  {
   "cell_type": "markdown",
   "id": "394cbdeb",
   "metadata": {},
   "source": [
    "# Projects"
   ]
  },
  {
   "cell_type": "markdown",
   "id": "208f1423",
   "metadata": {},
   "source": [
    "## Links used in the Golf Courses of Wrath\n",
    "\n",
    "\n",
    "https://www.sciencebase.gov/catalog/item/get/5af3311be4b0da30c1b245d8\n",
    "\n",
    "https://www.sciencebase.gov/catalog/file/get/5af3311be4b0da30c1b245d8?f=__disk__7c%2Fd0%2Fda%2F7cd0da1f354d12c5870f0dee7446cb41ad5a013f&transform=1&allowOpen=true#Identification%20Information\n",
    "\n",
    "https://www.drought.gov/data-maps-tools?data_coverage=363&file_format=All&data_type=All&dews_region=All&page=2\n",
    "\n",
    "https://www.usbr.gov/ColoradoRiverBasin/#InterimGuidelines\n",
    "\n",
    "https://storymaps.arcgis.com/stories/2efeafc8613440dba5b56cb83cd790ba\n",
    "\n",
    "https://agupubs.onlinelibrary.wiley.com/doi/full/10.1002/2014GL061055\n",
    "\n",
    "https://coloradoriverbasin-lincolninstitute.hub.arcgis.com/\n",
    "\n",
    "https://water.usgs.gov/watuse/data/\n",
    "\n",
    "https://www.usgs.gov/mission-areas/water-resources/science/changes-water-use-categories?qt-science_center_objects=0#qt-science_center_objects\n",
    "\n",
    "https://www.openintro.org/data/index.php?data=county\n",
    "\n",
    "https://www.openintro.org/data/index.php?data=county_complete\n",
    "\n",
    "https://www.ncei.noaa.gov/access/monitoring/dyk/colorado-basin-drought\n",
    "\n",
    "https://pubs.usgs.gov/circ/1441/circ1441.pdf\n",
    "\n",
    "https://www.justintools.com/unit-conversion/volume.php?k1=cubic-kilometers&k2=us-gallons\n",
    "\n",
    "https://www.canva.com/design/DAFNuzGOkRo/CNUIOP4efltomF6vMP_kkw/edit#\n",
    "\n",
    "https://www.taxpayer.net/energy-natural-resources/federal-subsidies-corn-ethanol-corn-based-biofuels/\n",
    "\n",
    "https://docserver.gesdisc.eosdis.nasa.gov/public/project/hydrology/GRACEGroundwater.pdf\n",
    "\n",
    "https://coloradoriverbasin-lincolninstitute.hub.arcgis.com/datasets/lincolninstitute::2010-municipal-water-use/explore?location=33.789405%2C-90.226467%2C4.63\n",
    "\n",
    "https://vimeo.com/manage/videos/756490938\n",
    "\n",
    "Wasn't used but Useful\n",
    "https://www.wateronline.com/doc/desalination-and-power-plants-an-ideal-partnership-0001\n",
    "\n",
    "https://www.cbrfc.noaa.gov/lmap/lmap.php\n",
    "\n",
    "https://www.drought.gov/node/2075\n",
    "\n",
    "https://www.energy.senate.gov/hearings/2022/6/full-committee-hearing-to-examine-short-and-long-term-solutions-to-extreme-drought-in-the-western-u-s\n",
    "\n",
    "https://openetdata.org/api/\n",
    "\n",
    "https://waterdata.usgs.gov/nwis/gw\n",
    "\n",
    "https://crsreports.congress.gov/product/pdf/R/R45546"
   ]
  },
  {
   "cell_type": "code",
   "execution_count": null,
   "id": "37af852e",
   "metadata": {},
   "outputs": [],
   "source": []
  },
  {
   "cell_type": "markdown",
   "id": "deebc365",
   "metadata": {},
   "source": [
    "# Project Examples\n",
    "\n",
    "https://github.com/lychrst/NYC_bike_lanes/blob/main/nyc_bike_lanes.ipynb\n",
    "\n",
    "https://github.com/kbaranko/NYC-Building-Energy-Intensity\n",
    "\n"
   ]
  },
  {
   "cell_type": "markdown",
   "id": "b8abdcc0",
   "metadata": {},
   "source": [
    "## Job Search \n",
    "\n",
    "https://www.themuse.com/advice/behavioral-interview-questions-answers-examples\n",
    "\n",
    "https://www.usajobs.gov/\n",
    "\n",
    "https://builtin.com/\n",
    "\n",
    "https://www.dice.com/jobs\n"
   ]
  },
  {
   "cell_type": "code",
   "execution_count": null,
   "id": "b72167d3",
   "metadata": {},
   "outputs": [],
   "source": []
  }
 ],
 "metadata": {
  "kernelspec": {
   "display_name": "Python (learn-env)",
   "language": "python",
   "name": "learn-env"
  },
  "language_info": {
   "codemirror_mode": {
    "name": "ipython",
    "version": 3
   },
   "file_extension": ".py",
   "mimetype": "text/x-python",
   "name": "python",
   "nbconvert_exporter": "python",
   "pygments_lexer": "ipython3",
   "version": "3.9.7"
  }
 },
 "nbformat": 4,
 "nbformat_minor": 5
}

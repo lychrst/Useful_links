{
 "cells": [
  {
   "cell_type": "markdown",
   "id": "ab859faa",
   "metadata": {},
   "source": [
    "# Learning \n",
    "\n",
    "https://juanitorduz.github.io/\n",
    "\n",
    "https://aws.amazon.com/training/learn-about/data-analytics/?th=tile&tile=learnabout\n",
    "\n",
    "https://medium.com/dssimplified/get-a-masters-in-data-science-for-free-4261b1055a93\n",
    "\n",
    "https://docs.aws.amazon.com/redshift/index.html\n",
    "\n",
    "https://github.com/flatiron-school/DA-AMZN-220228-lecture-material\n",
    "\n",
    "www.datacamp.com\n",
    "\n",
    "https://www.kaggle.com/learn\n",
    "\n",
    "https://aws.amazon.com/redshift/getting-started/\n",
    "\n",
    "https://levelup.gitconnected.com/17-killer-github-repos-you-need-to-save-right-now-3d2a8d694837\n",
    "\n",
    "https://explore.skillbuilder.aws/learn/signin\n"
   ]
  },
  {
   "cell_type": "markdown",
   "id": "674956b7",
   "metadata": {},
   "source": [
    "# Facebook Prophet\n",
    "\n",
    "The master - https://juanitorduz.github.io/fb_prophet/\n",
    "\n",
    "Quickstart - https://facebook.github.io/prophet/docs/quick_start.html#python-api\n",
    "\n",
    "Moto DEI -  https://medium.com/swlh/facebook-prophet-426421f7e331"
   ]
  },
  {
   "cell_type": "markdown",
   "id": "599d512e",
   "metadata": {},
   "source": [
    "# Statistics\n",
    "\n",
    "Penn State Stats - https://online.stat.psu.edu/statprogram/\n",
    "\n",
    "Think Bayes - https://www.greenteapress.com/thinkbayes/html/index.html\n",
    "\n",
    "If going into Machine Learning (book) - Hands on Machine Learning with Scitkit-learn and Tensorflow\n",
    "\n",
    "https://app.datacamp.com/learn/courses/introduction-to-statistics-in-python\n",
    "\n",
    "https://app.datacamp.com/learn/courses/sampling-in-python\n",
    "\n",
    "https://app.datacamp.com/learn/courses/hypothesis-testing-in-python\n"
   ]
  },
  {
   "cell_type": "markdown",
   "id": "b5ff6ae9",
   "metadata": {},
   "source": [
    "# Git Hub\n",
    "\n",
    "git book - https://git-scm.com/book/en/v2\n",
    "\n",
    "How to remove files - https://devconnected.com/how-to-remove-files-from-git-commit/\n",
    "\n",
    "git commit - https://www.freecodecamp.org/news/git-commit-command-explained/\n",
    "\n",
    "git ignore - https://github.com/lychrst/gitignore\n",
    "\n",
    "VsCode Readme Editor - https://github.com/SumitNalavade/VS-Code-ReadMe-Editor\n",
    "\n",
    "Matt Carr - https://github.com/mattcarr17/solar_energy_prediction\n",
    "\n",
    "Matt Carr - https://github.com/mattcarr17/practice-repo\n",
    "\n",
    "How to get changes back - https://git.wtf/how-to-get-your-changes-back-after-an-accidental-hard-reset-in-git\n",
    "\n",
    "move or rename - https://www.geeksforgeeks.org/git-move-files/"
   ]
  },
  {
   "cell_type": "markdown",
   "id": "75342acc",
   "metadata": {},
   "source": [
    "# My sites\n",
    "https://medium.com/me/settings\n",
    "\n",
    "https://www.linkedin.com/in/chris-lyons-epistemology/\n",
    "\n",
    "https://vimeo.com/manage/videos/756490938\n",
    "\n",
    "https://docs.google.com/document/d/1QLAQRQb6YiW9Z1AD27qMMDxI9y-QRrWflbNRjxPD3JU/edit\n"
   ]
  },
  {
   "cell_type": "markdown",
   "id": "830c1ea6",
   "metadata": {},
   "source": [
    "#  Pandas\n",
    "\n",
    "Replacing characters in a string -  https://datatofish.com/replace-character-pandas-dataframe/\n",
    "\n",
    "Merging - https://pandas.pydata.org/pandas-docs/stable/user_guide/merging.html"
   ]
  },
  {
   "cell_type": "markdown",
   "id": "fcfa9031",
   "metadata": {},
   "source": [
    "# Web Scrapping\n",
    "\n",
    "Error Status Codes  - https://developer.mozilla.org/en-US/docs/Web/HTTP/Status\n",
    "\n",
    "Selenium -  https://www.selenium.dev/documentation/\n",
    "\n"
   ]
  },
  {
   "cell_type": "markdown",
   "id": "1b9779fa",
   "metadata": {},
   "source": [
    "# Plotting\n",
    "\n",
    "Rotating axis label - https://stackoverflow.com/questions/32244019/how-to-rotate-x-axis-tick-labels-in-a-pandas-plot\n",
    "\n"
   ]
  },
  {
   "cell_type": "markdown",
   "id": "97a62d31",
   "metadata": {},
   "source": [
    "# Tableau \n",
    "\n",
    "https://public.tableau.com/app/discover\n",
    "\n",
    "Tableau animation - https://public.tableau.com/app/profile/marc.reid/viz/TableauAnimation-CoreConcepts/0_Cover"
   ]
  },
  {
   "cell_type": "markdown",
   "id": "394cbdeb",
   "metadata": {},
   "source": [
    "# Projects"
   ]
  },
  {
   "cell_type": "markdown",
   "id": "208f1423",
   "metadata": {},
   "source": [
    "## Links used in the Golf Courses of Wrath\n",
    "\n",
    "\n",
    "https://www.sciencebase.gov/catalog/item/get/5af3311be4b0da30c1b245d8\n",
    "\n",
    "https://www.sciencebase.gov/catalog/file/get/5af3311be4b0da30c1b245d8?f=__disk__7c%2Fd0%2Fda%2F7cd0da1f354d12c5870f0dee7446cb41ad5a013f&transform=1&allowOpen=true#Identification%20Information\n",
    "\n",
    "https://www.drought.gov/data-maps-tools?data_coverage=363&file_format=All&data_type=All&dews_region=All&page=2\n",
    "\n",
    "https://www.usbr.gov/ColoradoRiverBasin/#InterimGuidelines\n",
    "\n",
    "https://storymaps.arcgis.com/stories/2efeafc8613440dba5b56cb83cd790ba\n",
    "\n",
    "https://agupubs.onlinelibrary.wiley.com/doi/full/10.1002/2014GL061055\n",
    "\n",
    "https://coloradoriverbasin-lincolninstitute.hub.arcgis.com/\n",
    "\n",
    "https://water.usgs.gov/watuse/data/\n",
    "\n",
    "https://www.usgs.gov/mission-areas/water-resources/science/changes-water-use-categories?qt-science_center_objects=0#qt-science_center_objects\n",
    "\n",
    "https://www.openintro.org/data/index.php?data=county\n",
    "\n",
    "https://www.openintro.org/data/index.php?data=county_complete\n",
    "\n",
    "https://www.ncei.noaa.gov/access/monitoring/dyk/colorado-basin-drought\n",
    "\n",
    "https://pubs.usgs.gov/circ/1441/circ1441.pdf\n",
    "\n",
    "https://www.justintools.com/unit-conversion/volume.php?k1=cubic-kilometers&k2=us-gallons\n",
    "\n",
    "https://www.canva.com/design/DAFNuzGOkRo/CNUIOP4efltomF6vMP_kkw/edit#\n",
    "\n",
    "https://www.taxpayer.net/energy-natural-resources/federal-subsidies-corn-ethanol-corn-based-biofuels/\n",
    "\n",
    "https://docserver.gesdisc.eosdis.nasa.gov/public/project/hydrology/GRACEGroundwater.pdf\n",
    "\n",
    "https://coloradoriverbasin-lincolninstitute.hub.arcgis.com/datasets/lincolninstitute::2010-municipal-water-use/explore?location=33.789405%2C-90.226467%2C4.63\n",
    "\n",
    "https://vimeo.com/manage/videos/756490938\n",
    "\n",
    "Wasn't used but Useful\n",
    "https://www.wateronline.com/doc/desalination-and-power-plants-an-ideal-partnership-0001\n",
    "\n",
    "https://www.cbrfc.noaa.gov/lmap/lmap.php\n",
    "\n",
    "https://www.drought.gov/node/2075\n"
   ]
  },
  {
   "cell_type": "code",
   "execution_count": null,
   "id": "37af852e",
   "metadata": {},
   "outputs": [],
   "source": []
  },
  {
   "cell_type": "markdown",
   "id": "deebc365",
   "metadata": {},
   "source": [
    "# Project Examples\n",
    "\n",
    "https://github.com/lychrst/NYC_bike_lanes/blob/main/nyc_bike_lanes.ipynb\n",
    "\n",
    "https://github.com/kbaranko/NYC-Building-Energy-Intensity\n",
    "\n"
   ]
  }
 ],
 "metadata": {
  "kernelspec": {
   "display_name": "Python (learn-env)",
   "language": "python",
   "name": "learn-env"
  },
  "language_info": {
   "codemirror_mode": {
    "name": "ipython",
    "version": 3
   },
   "file_extension": ".py",
   "mimetype": "text/x-python",
   "name": "python",
   "nbconvert_exporter": "python",
   "pygments_lexer": "ipython3",
   "version": "3.9.7"
  }
 },
 "nbformat": 4,
 "nbformat_minor": 5
}
